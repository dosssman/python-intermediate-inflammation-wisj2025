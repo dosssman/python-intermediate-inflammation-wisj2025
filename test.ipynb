{
 "cells": [
  {
   "cell_type": "code",
   "execution_count": 3,
   "id": "71921bf3",
   "metadata": {},
   "outputs": [
    {
     "name": "stdout",
     "output_type": "stream",
     "text": [
      "/workspaces/python-intermediate-inflammation-wisj2025/venv_demo/bin/python\n"
     ]
    }
   ],
   "source": [
    "!which python"
   ]
  },
  {
   "cell_type": "code",
   "execution_count": 6,
   "id": "bbbe7cb6",
   "metadata": {},
   "outputs": [],
   "source": [
    "import os\n",
    "\n",
    "# get the current working directory\n",
    "os.getcwd()\n",
    "\n",
    "import numpy as np\n",
    "import numpy.testing as npt\n",
    "from inflammation.models import daily_mean\n",
    "\n",
    "test_input = np.array([[1, 2], [3, 4], [5, 6]])\n",
    "daily_mean(test_input)\n",
    "test_result = np.array([3, 4])\n",
    "npt.assert_array_equal(daily_mean(test_input), test_result) # Runs without a hitch\n",
    "# print(daily_mean(test_input)) "
   ]
  }
 ],
 "metadata": {
  "kernelspec": {
   "display_name": "venv_demo (3.12.1)",
   "language": "python",
   "name": "python3"
  },
  "language_info": {
   "codemirror_mode": {
    "name": "ipython",
    "version": 3
   },
   "file_extension": ".py",
   "mimetype": "text/x-python",
   "name": "python",
   "nbconvert_exporter": "python",
   "pygments_lexer": "ipython3",
   "version": "3.12.1"
  }
 },
 "nbformat": 4,
 "nbformat_minor": 5
}
